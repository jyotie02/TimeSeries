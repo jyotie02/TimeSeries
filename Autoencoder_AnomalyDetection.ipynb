{
  "nbformat": 4,
  "nbformat_minor": 0,
  "metadata": {
    "colab": {
      "name": "Autoencoder_AnomalyDetection.ipynb",
      "provenance": [],
      "collapsed_sections": []
    },
    "kernelspec": {
      "name": "python3",
      "display_name": "Python 3"
    }
  },
  "cells": [
    {
      "cell_type": "markdown",
      "metadata": {
        "id": "ooSUk25gkPsp"
      },
      "source": [
        "# **Anomaly detection using autoencoder**"
      ]
    },
    {
      "cell_type": "markdown",
      "metadata": {
        "id": "HJp_qD-2lyfz"
      },
      "source": [
        "## **Autoencoder :**\n",
        "\n",
        "\n",
        "\n",
        "\n",
        "\n",
        "*   An autoencoder is a neural network that tries to reconstruct its original input.\n",
        "\n",
        "  INPUT----**[ENCODER]**----HIDDEN REPRESENTATION----**[DECODER]**----OUTPUT\n",
        "\n",
        "\n",
        "*   **Encoder :** Encodes the input in to HIDDEN representation.\n",
        "\n",
        "\n",
        "*   **Decoder :** Decode the HIDDEN representation to get the output identical to the original input.\n",
        "\n",
        "*   It's main objective is to minimize the reconstruction error between the input and the output.\n",
        "\n",
        "\n",
        "\n",
        "\n",
        "\n"
      ]
    },
    {
      "cell_type": "code",
      "metadata": {
        "id": "mmHZT_pJN4O2",
        "colab": {
          "resources": {
            "http://localhost:8080/nbextensions/google.colab/files.js": {
              "data": "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",
              "ok": true,
              "headers": [
                [
                  "content-type",
                  "application/javascript"
                ]
              ],
              "status": 200,
              "status_text": ""
            }
          },
          "base_uri": "https://localhost:8080/",
          "height": 73
        },
        "outputId": "ad78e275-eb8e-4f17-97aa-6c66808c891f"
      },
      "source": [
        "from google.colab import files\n",
        "uploaded = files.upload()"
      ],
      "execution_count": 1,
      "outputs": [
        {
          "output_type": "display_data",
          "data": {
            "text/html": [
              "\n",
              "     <input type=\"file\" id=\"files-a04e5aa6-d7fa-47f1-9edc-1041b104922e\" name=\"files[]\" multiple disabled\n",
              "        style=\"border:none\" />\n",
              "     <output id=\"result-a04e5aa6-d7fa-47f1-9edc-1041b104922e\">\n",
              "      Upload widget is only available when the cell has been executed in the\n",
              "      current browser session. Please rerun this cell to enable.\n",
              "      </output>\n",
              "      <script src=\"/nbextensions/google.colab/files.js\"></script> "
            ],
            "text/plain": [
              "<IPython.core.display.HTML object>"
            ]
          },
          "metadata": {
            "tags": []
          }
        },
        {
          "output_type": "stream",
          "text": [
            "Saving data1.csv to data1.csv\n"
          ],
          "name": "stdout"
        }
      ]
    },
    {
      "cell_type": "code",
      "metadata": {
        "id": "1yka4HcdWLDi"
      },
      "source": [
        "import pandas as pd\n",
        "#https://pandas.pydata.org/docs/reference/index.html\n",
        "\n",
        "import numpy as np\n",
        "#https://numpy.org/doc/stable/user/tutorials_index.html\n",
        "\n",
        "from matplotlib import pyplot as plt\n",
        "#https://matplotlib.org/tutorials/index.html\n",
        "\n",
        "from keras.callbacks import ModelCheckpoint, TensorBoard\n",
        "from sklearn.metrics import confusion_matrix\n",
        "from sklearn.model_selection import train_test_split\n",
        "#https://scikit-learn.org/stable/user_guide.html\n",
        "\n",
        "from keras.layers import Input, Dense\n",
        "from keras.models import Model\n",
        "from keras import regularizers\n",
        "#https://keras.io/api/\n",
        "\n",
        "import seaborn as sns\n",
        "#https://seaborn.pydata.org/api.html"
      ],
      "execution_count": 1,
      "outputs": []
    },
    {
      "cell_type": "markdown",
      "metadata": {
        "id": "BdOfzucxWbw7"
      },
      "source": [
        "**Anomaly detection using autoencoder**"
      ]
    },
    {
      "cell_type": "code",
      "metadata": {
        "id": "hk_bXbEpUClZ"
      },
      "source": [
        "df = pd.read_csv(\"data1.csv\")"
      ],
      "execution_count": 2,
      "outputs": []
    },
    {
      "cell_type": "code",
      "metadata": {
        "id": "RzifaSBsW06N"
      },
      "source": [
        "data2= df.drop(['timestamp','time_epoch'], axis=1)"
      ],
      "execution_count": 3,
      "outputs": []
    },
    {
      "cell_type": "code",
      "metadata": {
        "colab": {
          "base_uri": "https://localhost:8080/",
          "height": 491
        },
        "id": "d9jWLTU6uzM7",
        "outputId": "8686dfb9-9ad8-4032-a04a-1e779b5290c0"
      },
      "source": [
        "data2[3690:3705]"
      ],
      "execution_count": 4,
      "outputs": [
        {
          "output_type": "execute_result",
          "data": {
            "text/html": [
              "<div>\n",
              "<style scoped>\n",
              "    .dataframe tbody tr th:only-of-type {\n",
              "        vertical-align: middle;\n",
              "    }\n",
              "\n",
              "    .dataframe tbody tr th {\n",
              "        vertical-align: top;\n",
              "    }\n",
              "\n",
              "    .dataframe thead th {\n",
              "        text-align: right;\n",
              "    }\n",
              "</style>\n",
              "<table border=\"1\" class=\"dataframe\">\n",
              "  <thead>\n",
              "    <tr style=\"text-align: right;\">\n",
              "      <th></th>\n",
              "      <th>value</th>\n",
              "      <th>hours</th>\n",
              "      <th>daylight</th>\n",
              "      <th>DayOfTheWeek</th>\n",
              "      <th>WeekDay</th>\n",
              "      <th>categories</th>\n",
              "      <th>anomaly</th>\n",
              "    </tr>\n",
              "  </thead>\n",
              "  <tbody>\n",
              "    <tr>\n",
              "      <th>3690</th>\n",
              "      <td>25.080852</td>\n",
              "      <td>13</td>\n",
              "      <td>1</td>\n",
              "      <td>5</td>\n",
              "      <td>0</td>\n",
              "      <td>1</td>\n",
              "      <td>0</td>\n",
              "    </tr>\n",
              "    <tr>\n",
              "      <th>3691</th>\n",
              "      <td>25.982882</td>\n",
              "      <td>14</td>\n",
              "      <td>1</td>\n",
              "      <td>5</td>\n",
              "      <td>0</td>\n",
              "      <td>1</td>\n",
              "      <td>0</td>\n",
              "    </tr>\n",
              "    <tr>\n",
              "      <th>3692</th>\n",
              "      <td>25.509860</td>\n",
              "      <td>15</td>\n",
              "      <td>1</td>\n",
              "      <td>5</td>\n",
              "      <td>0</td>\n",
              "      <td>1</td>\n",
              "      <td>0</td>\n",
              "    </tr>\n",
              "    <tr>\n",
              "      <th>3693</th>\n",
              "      <td>25.747227</td>\n",
              "      <td>16</td>\n",
              "      <td>1</td>\n",
              "      <td>5</td>\n",
              "      <td>0</td>\n",
              "      <td>1</td>\n",
              "      <td>0</td>\n",
              "    </tr>\n",
              "    <tr>\n",
              "      <th>3694</th>\n",
              "      <td>26.589480</td>\n",
              "      <td>17</td>\n",
              "      <td>1</td>\n",
              "      <td>5</td>\n",
              "      <td>0</td>\n",
              "      <td>1</td>\n",
              "      <td>0</td>\n",
              "    </tr>\n",
              "    <tr>\n",
              "      <th>3695</th>\n",
              "      <td>26.955702</td>\n",
              "      <td>18</td>\n",
              "      <td>1</td>\n",
              "      <td>5</td>\n",
              "      <td>0</td>\n",
              "      <td>1</td>\n",
              "      <td>0</td>\n",
              "    </tr>\n",
              "    <tr>\n",
              "      <th>3696</th>\n",
              "      <td>26.609375</td>\n",
              "      <td>19</td>\n",
              "      <td>1</td>\n",
              "      <td>5</td>\n",
              "      <td>0</td>\n",
              "      <td>1</td>\n",
              "      <td>0</td>\n",
              "    </tr>\n",
              "    <tr>\n",
              "      <th>3697</th>\n",
              "      <td>27.938467</td>\n",
              "      <td>20</td>\n",
              "      <td>1</td>\n",
              "      <td>5</td>\n",
              "      <td>0</td>\n",
              "      <td>1</td>\n",
              "      <td>0</td>\n",
              "    </tr>\n",
              "    <tr>\n",
              "      <th>3698</th>\n",
              "      <td>28.327705</td>\n",
              "      <td>21</td>\n",
              "      <td>1</td>\n",
              "      <td>5</td>\n",
              "      <td>0</td>\n",
              "      <td>1</td>\n",
              "      <td>0</td>\n",
              "    </tr>\n",
              "    <tr>\n",
              "      <th>3699</th>\n",
              "      <td>28.471048</td>\n",
              "      <td>22</td>\n",
              "      <td>1</td>\n",
              "      <td>5</td>\n",
              "      <td>0</td>\n",
              "      <td>1</td>\n",
              "      <td>0</td>\n",
              "    </tr>\n",
              "    <tr>\n",
              "      <th>3700</th>\n",
              "      <td>28.066477</td>\n",
              "      <td>23</td>\n",
              "      <td>0</td>\n",
              "      <td>5</td>\n",
              "      <td>0</td>\n",
              "      <td>0</td>\n",
              "      <td>1</td>\n",
              "    </tr>\n",
              "    <tr>\n",
              "      <th>3701</th>\n",
              "      <td>28.187112</td>\n",
              "      <td>0</td>\n",
              "      <td>0</td>\n",
              "      <td>6</td>\n",
              "      <td>0</td>\n",
              "      <td>0</td>\n",
              "      <td>1</td>\n",
              "    </tr>\n",
              "    <tr>\n",
              "      <th>3702</th>\n",
              "      <td>28.767219</td>\n",
              "      <td>1</td>\n",
              "      <td>0</td>\n",
              "      <td>6</td>\n",
              "      <td>0</td>\n",
              "      <td>0</td>\n",
              "      <td>1</td>\n",
              "    </tr>\n",
              "    <tr>\n",
              "      <th>3703</th>\n",
              "      <td>28.338130</td>\n",
              "      <td>2</td>\n",
              "      <td>0</td>\n",
              "      <td>6</td>\n",
              "      <td>0</td>\n",
              "      <td>0</td>\n",
              "      <td>1</td>\n",
              "    </tr>\n",
              "    <tr>\n",
              "      <th>3704</th>\n",
              "      <td>28.230904</td>\n",
              "      <td>3</td>\n",
              "      <td>0</td>\n",
              "      <td>6</td>\n",
              "      <td>0</td>\n",
              "      <td>0</td>\n",
              "      <td>1</td>\n",
              "    </tr>\n",
              "  </tbody>\n",
              "</table>\n",
              "</div>"
            ],
            "text/plain": [
              "          value  hours  daylight  DayOfTheWeek  WeekDay  categories  anomaly\n",
              "3690  25.080852     13         1             5        0           1        0\n",
              "3691  25.982882     14         1             5        0           1        0\n",
              "3692  25.509860     15         1             5        0           1        0\n",
              "3693  25.747227     16         1             5        0           1        0\n",
              "3694  26.589480     17         1             5        0           1        0\n",
              "3695  26.955702     18         1             5        0           1        0\n",
              "3696  26.609375     19         1             5        0           1        0\n",
              "3697  27.938467     20         1             5        0           1        0\n",
              "3698  28.327705     21         1             5        0           1        0\n",
              "3699  28.471048     22         1             5        0           1        0\n",
              "3700  28.066477     23         0             5        0           0        1\n",
              "3701  28.187112      0         0             6        0           0        1\n",
              "3702  28.767219      1         0             6        0           0        1\n",
              "3703  28.338130      2         0             6        0           0        1\n",
              "3704  28.230904      3         0             6        0           0        1"
            ]
          },
          "metadata": {
            "tags": []
          },
          "execution_count": 4
        }
      ]
    },
    {
      "cell_type": "markdown",
      "metadata": {
        "id": "1z6Xt2JFZTpG"
      },
      "source": [
        "# Split the data in to training, test, and validation set."
      ]
    },
    {
      "cell_type": "code",
      "metadata": {
        "id": "LusqgOqnYu1S"
      },
      "source": [
        "df2_train, df2_test = train_test_split(data2, test_size=0.2,random_state=123 )\n",
        "df2_train, df2_valid = train_test_split(df2_train, test_size=0.2,random_state=123)"
      ],
      "execution_count": 6,
      "outputs": []
    },
    {
      "cell_type": "markdown",
      "metadata": {
        "id": "kx79eZH5b_Sa"
      },
      "source": [
        "# Remove the anomalous instances from training and validation set.\n",
        "\n",
        "**Basic steps to Anomaly Detection using an Autoencoder:**\n",
        "\n",
        " - Train an Autoencoder on normal data (no anomalies)\n",
        "\n",
        "\n",
        " - Take a new data point and try to reconstruct it using the Autoencoder\n",
        "\n",
        " - If the error (reconstruction error) for the new data point is above some threshold, we label the example as an anomaly."
      ]
    },
    {
      "cell_type": "code",
      "metadata": {
        "id": "4Cg7G9QRcC2p"
      },
      "source": [
        "train_data21 = df2_train.loc[df2_train['anomaly'] == 0, ['value', 'hours', 'daylight', 'DayOfTheWeek', 'WeekDay','categories','anomaly']]\n",
        "val_data21 = df2_valid.loc[df2_valid['anomaly'] == 0, ['value', 'hours', 'daylight', 'DayOfTheWeek','WeekDay','categories', 'anomaly']]"
      ],
      "execution_count": 7,
      "outputs": []
    },
    {
      "cell_type": "markdown",
      "metadata": {
        "id": "CqLIaJ_yckKB"
      },
      "source": [
        "**# Drop the label column**"
      ]
    },
    {
      "cell_type": "code",
      "metadata": {
        "id": "hDOa987WcO-9"
      },
      "source": [
        "train_data2= train_data21.drop(['anomaly'], axis=1)\n",
        "val_data2=val_data21.drop(['anomaly'], axis=1)\n",
        "test_data2=df2_test.drop(['anomaly'], axis=1)"
      ],
      "execution_count": 9,
      "outputs": []
    },
    {
      "cell_type": "markdown",
      "metadata": {
        "id": "QuxoRSBOdSuy"
      },
      "source": [
        "**# Size of the train, validation and test data set**"
      ]
    },
    {
      "cell_type": "code",
      "metadata": {
        "id": "aeWQKLGqcuT_",
        "colab": {
          "base_uri": "https://localhost:8080/"
        },
        "outputId": "b13d97c6-6048-45aa-91f9-a28dc4272e98"
      },
      "source": [
        "print(train_data2.shape)\n",
        "print(val_data2.shape)\n",
        "print(test_data2.shape)"
      ],
      "execution_count": 10,
      "outputs": [
        {
          "output_type": "stream",
          "text": [
            "(4608, 6)\n",
            "(1151, 6)\n",
            "(1454, 6)\n"
          ],
          "name": "stdout"
        }
      ]
    },
    {
      "cell_type": "markdown",
      "metadata": {
        "id": "FlgVj9D0dzGD"
      },
      "source": [
        "**# parameters**"
      ]
    },
    {
      "cell_type": "code",
      "metadata": {
        "id": "tAC-bi1MdQU1"
      },
      "source": [
        "batch_size = 64\n",
        "input_dim = 6 \n",
        "encoding_dim = 64\n",
        "hidden_dim = int(encoding_dim / 2)\n",
        "learning_rate = 1e-3"
      ],
      "execution_count": 12,
      "outputs": []
    },
    {
      "cell_type": "markdown",
      "metadata": {
        "id": "u80mcuiJeM9F"
      },
      "source": [
        "# Create the autoencoder model \n",
        "\n",
        "**Autoencoder :**\n",
        "\n",
        " - Autoencoder takes the input and encodes it into a hidden representation. (encoder) \\\n",
        "\n",
        " - It decodes the input again from this hidden representation. (decoder) \\\n",
        "\n",
        "-   The model is trained to minimize a loss function (MSE) to ensure that Xi is close to X'i \n",
        "\n",
        "\n"
      ]
    },
    {
      "cell_type": "code",
      "metadata": {
        "id": "fl1DRI5ueLGo",
        "colab": {
          "base_uri": "https://localhost:8080/"
        },
        "outputId": "6e7f92db-ea3d-49a1-8ca6-8c20e3185764"
      },
      "source": [
        "input_layer = Input(shape=(input_dim, ))\n",
        "encoder = Dense(encoding_dim, activation=\"relu\", activity_regularizer=regularizers.l1(learning_rate))(input_layer)\n",
        "encoder = Dense(hidden_dim, activation=\"relu\")(encoder)\n",
        "decoder = Dense(hidden_dim, activation=\"relu\")(encoder)\n",
        "decoder = Dense(encoding_dim, activation=\"relu\")(decoder)\n",
        "decoder = Dense(input_dim, activation=\"linear\")(decoder)\n",
        "autoencoder = Model(inputs=input_layer, outputs=decoder)\n",
        "autoencoder.summary()"
      ],
      "execution_count": 13,
      "outputs": [
        {
          "output_type": "stream",
          "text": [
            "Model: \"functional_1\"\n",
            "_________________________________________________________________\n",
            "Layer (type)                 Output Shape              Param #   \n",
            "=================================================================\n",
            "input_1 (InputLayer)         [(None, 6)]               0         \n",
            "_________________________________________________________________\n",
            "dense (Dense)                (None, 64)                448       \n",
            "_________________________________________________________________\n",
            "dense_1 (Dense)              (None, 32)                2080      \n",
            "_________________________________________________________________\n",
            "dense_2 (Dense)              (None, 32)                1056      \n",
            "_________________________________________________________________\n",
            "dense_3 (Dense)              (None, 64)                2112      \n",
            "_________________________________________________________________\n",
            "dense_4 (Dense)              (None, 6)                 390       \n",
            "=================================================================\n",
            "Total params: 6,086\n",
            "Trainable params: 6,086\n",
            "Non-trainable params: 0\n",
            "_________________________________________________________________\n"
          ],
          "name": "stdout"
        }
      ]
    },
    {
      "cell_type": "markdown",
      "metadata": {
        "id": "1iaad-5Xe-vH"
      },
      "source": [
        "**# Compile and train the model**"
      ]
    },
    {
      "cell_type": "code",
      "metadata": {
        "id": "ZyMbHx8LfHJO",
        "colab": {
          "base_uri": "https://localhost:8080/"
        },
        "outputId": "58d33f58-383f-4d59-8b49-7012c9622077"
      },
      "source": [
        "autoencoder.compile(metrics=['accuracy'],\n",
        "                    loss='mean_squared_error',\n",
        "                    optimizer='adam')\n",
        "\n",
        "\n",
        "history = autoencoder.fit(train_data2, train_data2,\n",
        "                    epochs=20,\n",
        "                    batch_size=batch_size,\n",
        "                    shuffle=True,\n",
        "                    validation_data=(val_data2, val_data2)).history"
      ],
      "execution_count": 14,
      "outputs": [
        {
          "output_type": "stream",
          "text": [
            "Epoch 1/20\n",
            "72/72 [==============================] - 0s 4ms/step - loss: 27.7036 - accuracy: 0.9334 - val_loss: 5.0478 - val_accuracy: 0.9314\n",
            "Epoch 2/20\n",
            "72/72 [==============================] - 0s 2ms/step - loss: 2.2438 - accuracy: 0.9481 - val_loss: 0.9943 - val_accuracy: 0.9713\n",
            "Epoch 3/20\n",
            "72/72 [==============================] - 0s 2ms/step - loss: 0.6665 - accuracy: 0.9878 - val_loss: 0.3693 - val_accuracy: 0.9852\n",
            "Epoch 4/20\n",
            "72/72 [==============================] - 0s 2ms/step - loss: 0.3025 - accuracy: 0.9883 - val_loss: 0.2609 - val_accuracy: 0.9844\n",
            "Epoch 5/20\n",
            "72/72 [==============================] - 0s 2ms/step - loss: 0.2507 - accuracy: 0.9883 - val_loss: 0.2360 - val_accuracy: 0.9870\n",
            "Epoch 6/20\n",
            "72/72 [==============================] - 0s 2ms/step - loss: 0.2319 - accuracy: 0.9883 - val_loss: 0.2249 - val_accuracy: 0.9861\n",
            "Epoch 7/20\n",
            "72/72 [==============================] - 0s 2ms/step - loss: 0.2183 - accuracy: 0.9896 - val_loss: 0.2147 - val_accuracy: 0.9887\n",
            "Epoch 8/20\n",
            "72/72 [==============================] - 0s 2ms/step - loss: 0.2098 - accuracy: 0.9905 - val_loss: 0.2048 - val_accuracy: 0.9887\n",
            "Epoch 9/20\n",
            "72/72 [==============================] - 0s 2ms/step - loss: 0.2019 - accuracy: 0.9913 - val_loss: 0.1966 - val_accuracy: 0.9904\n",
            "Epoch 10/20\n",
            "72/72 [==============================] - 0s 2ms/step - loss: 0.1942 - accuracy: 0.9913 - val_loss: 0.1892 - val_accuracy: 0.9896\n",
            "Epoch 11/20\n",
            "72/72 [==============================] - 0s 2ms/step - loss: 0.1854 - accuracy: 0.9931 - val_loss: 0.1761 - val_accuracy: 0.9904\n",
            "Epoch 12/20\n",
            "72/72 [==============================] - 0s 2ms/step - loss: 0.1656 - accuracy: 0.9931 - val_loss: 0.1547 - val_accuracy: 0.9913\n",
            "Epoch 13/20\n",
            "72/72 [==============================] - 0s 2ms/step - loss: 0.1467 - accuracy: 0.9937 - val_loss: 0.1403 - val_accuracy: 0.9948\n",
            "Epoch 14/20\n",
            "72/72 [==============================] - 0s 2ms/step - loss: 0.1381 - accuracy: 0.9939 - val_loss: 0.1356 - val_accuracy: 0.9957\n",
            "Epoch 15/20\n",
            "72/72 [==============================] - 0s 2ms/step - loss: 0.1335 - accuracy: 0.9954 - val_loss: 0.1313 - val_accuracy: 0.9957\n",
            "Epoch 16/20\n",
            "72/72 [==============================] - 0s 2ms/step - loss: 0.1301 - accuracy: 0.9957 - val_loss: 0.1282 - val_accuracy: 0.9957\n",
            "Epoch 17/20\n",
            "72/72 [==============================] - 0s 2ms/step - loss: 0.1269 - accuracy: 0.9961 - val_loss: 0.1256 - val_accuracy: 0.9957\n",
            "Epoch 18/20\n",
            "72/72 [==============================] - 0s 2ms/step - loss: 0.1241 - accuracy: 0.9967 - val_loss: 0.1228 - val_accuracy: 0.9974\n",
            "Epoch 19/20\n",
            "72/72 [==============================] - 0s 2ms/step - loss: 0.1212 - accuracy: 0.9965 - val_loss: 0.1197 - val_accuracy: 0.9965\n",
            "Epoch 20/20\n",
            "72/72 [==============================] - 0s 2ms/step - loss: 0.1182 - accuracy: 0.9967 - val_loss: 0.1168 - val_accuracy: 0.9939\n"
          ],
          "name": "stdout"
        }
      ]
    },
    {
      "cell_type": "markdown",
      "metadata": {
        "id": "EGpV4K2KfzS8"
      },
      "source": [
        "**# training loss vs validation loss**"
      ]
    },
    {
      "cell_type": "code",
      "metadata": {
        "id": "fRr-Yp54fVF0",
        "colab": {
          "base_uri": "https://localhost:8080/",
          "height": 295
        },
        "outputId": "6c05f123-2878-4bc6-f5d1-893fb829b244"
      },
      "source": [
        "plt.plot(history['loss'], linewidth=2, label='Train')\n",
        "plt.plot(history['val_loss'], linewidth=2, label='Valid')\n",
        "plt.legend(loc='upper right')\n",
        "plt.title('Model loss')\n",
        "plt.ylabel('Loss')\n",
        "plt.xlabel('Epoch')\n",
        "plt.show()"
      ],
      "execution_count": 15,
      "outputs": [
        {
          "output_type": "display_data",
          "data": {
            "image/png": "[encoded data removed]",
            "text/plain": [
              "<Figure size 432x288 with 1 Axes>"
            ]
          },
          "metadata": {
            "tags": [],
            "needs_background": "light"
          }
        }
      ]
    },
    {
      "cell_type": "markdown",
      "metadata": {
        "id": "z5glBvmKgEW1"
      },
      "source": [
        "**# Test the autoencoder model on test dataset**"
      ]
    },
    {
      "cell_type": "code",
      "metadata": {
        "id": "pDwq2Z89fpjC"
      },
      "source": [
        "test_x_predictions = autoencoder.predict(test_data2)\n",
        "t=test_data2.values\n",
        "mse = np.mean(np.power(t - test_x_predictions, 2), axis=1)  \n",
        "error_df_test = pd.DataFrame({'Reconstruction_error': mse,\n",
        "                        'True_class': df2_test['anomaly']})\n",
        "error_df_test = error_df_test.reset_index()"
      ],
      "execution_count": 16,
      "outputs": []
    },
    {
      "cell_type": "code",
      "metadata": {
        "id": "nknDA22EgxE0",
        "colab": {
          "base_uri": "https://localhost:8080/",
          "height": 295
        },
        "outputId": "dbf537a1-2dc8-4bec-aceb-2aa8e29792a4"
      },
      "source": [
        "threshold_fixed = 0.006\n",
        "groups = error_df_test.groupby('True_class')\n",
        "\n",
        "fig, ax = plt.subplots()\n",
        "\n",
        "for name, group in groups:\n",
        "    ax.plot(group.index, group.Reconstruction_error, marker='o', ms=4.5, linestyle='',\n",
        "            label= \"Break\" if name == 1 else \"Normal\")\n",
        "ax.hlines(threshold_fixed, ax.get_xlim()[0], ax.get_xlim()[1], colors=\"r\", zorder=100, label='Threshold')\n",
        "ax.legend()\n",
        "plt.title(\"Reconstruction error for different classes\")\n",
        "plt.ylabel(\"Reconstruction error\")\n",
        "plt.xlabel(\"Data point index\")\n",
        "plt.show();"
      ],
      "execution_count": 17,
      "outputs": [
        {
          "output_type": "display_data",
          "data": {
            "image/png": "[encoded data removed]",
            "text/plain": [
              "<Figure size 432x288 with 1 Axes>"
            ]
          },
          "metadata": {
            "tags": [],
            "needs_background": "light"
          }
        }
      ]
    },
    {
      "cell_type": "markdown",
      "metadata": {
        "id": "f0mO_feRhOQK"
      },
      "source": [
        "**# Confusion matrix**"
      ]
    },
    {
      "cell_type": "code",
      "metadata": {
        "id": "bq5IhEOBg04u",
        "colab": {
          "base_uri": "https://localhost:8080/",
          "height": 350
        },
        "outputId": "fc22df94-894a-4990-dbae-b4b8b26f01bd"
      },
      "source": [
        "pred_y = [1 if e > threshold_fixed else 0 for e in error_df_test.Reconstruction_error.values]\n",
        "conf_matrix = confusion_matrix(error_df_test.True_class, pred_y)\n",
        "plt.figure(figsize=(5, 5))\n",
        "sns.heatmap(conf_matrix, annot=True, fmt=\"d\");\n",
        "plt.title(\"Confusion matrix\")\n",
        "plt.ylabel('True class')\n",
        "plt.xlabel('Predicted class')\n",
        "plt.show()"
      ],
      "execution_count": 18,
      "outputs": [
        {
          "output_type": "display_data",
          "data": {
            "image/png": "[encoded data removed]",
            "text/plain": [
              "<Figure size 360x360 with 2 Axes>"
            ]
          },
          "metadata": {
            "tags": [],
            "needs_background": "light"
          }
        }
      ]
    }
  ]
}