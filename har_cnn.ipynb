{
  "nbformat": 4,
  "nbformat_minor": 0,
  "metadata": {
    "kernelspec": {
      "display_name": "Python 3",
      "language": "python",
      "name": "python3"
    },
    "language_info": {
      "codemirror_mode": {
        "name": "ipython",
        "version": 3
      },
      "file_extension": ".py",
      "mimetype": "text/x-python",
      "name": "python",
      "nbconvert_exporter": "python",
      "pygments_lexer": "ipython3",
      "version": "3.7.6"
    },
    "colab": {
      "name": "har_cnn.ipynb",
      "provenance": []
    }
  },
  "cells": [
    {
      "cell_type": "code",
      "metadata": {
        "id": "oCNgwLglwaln",
        "colab": {
          "base_uri": "https://localhost:8080/"
        },
        "outputId": "969d7d2e-27b8-4f7d-ad21-29c6786544fe"
      },
      "source": [
        "from google.colab import drive\n",
        "drive.mount(\"/content/drive\")"
      ],
      "execution_count": null,
      "outputs": [
        {
          "output_type": "stream",
          "text": [
            "Mounted at /content/drive\n"
          ],
          "name": "stdout"
        }
      ]
    },
    {
      "cell_type": "code",
      "metadata": {
        "id": "1BhLDm2g36Fg"
      },
      "source": [
        "import numpy as np\n",
        "import pandas as pd\n",
        "from numpy import mean\n",
        "from numpy import std\n",
        "from numpy import dstack\n",
        "from pandas import read_csv\n",
        "import matplotlib.pyplot as plt\n",
        "from keras.models import Model\n",
        "from matplotlib import pyplot\n",
        "from keras.layers import Input\n",
        "from sklearn.preprocessing import StandardScaler\n",
        "from keras.models import Sequential\n",
        "from keras.layers.normalization import BatchNormalization\n",
        "from keras.layers import Dense\n",
        "from keras.layers import Flatten\n",
        "from keras.layers import Dropout\n",
        "from keras.layers.convolutional import Conv1D,Conv2D\n",
        "from keras.layers.convolutional import MaxPooling1D\n",
        "from keras.utils import to_categorical\n",
        "from keras.models import Sequential\n",
        "from keras.layers import LSTM\n",
        "from keras.layers.core import Dense, Dropout\n",
        "import matplotlib.pyplot as plt\n",
        "import keras\n",
        "from keras import optimizers\n",
        "#from keras_self_attention import SeqSelfAttention\n",
        "from keras.callbacks import EarlyStopping\n",
        "from sklearn.metrics import classification_report"
      ],
      "execution_count": null,
      "outputs": []
    },
    {
      "cell_type": "code",
      "metadata": {
        "id": "VZf9x5vH36F3"
      },
      "source": [
        "ACTIVITIES = {\n",
        "    0: 'WALKING',\n",
        "    1: 'WALKING_UPSTAIRS',\n",
        "    2: 'WALKING_DOWNSTAIRS',\n",
        "    3: 'SITTING',\n",
        "    4: 'STANDING',\n",
        "    5: 'LAYING',\n",
        "}"
      ],
      "execution_count": null,
      "outputs": []
    },
    {
      "cell_type": "code",
      "metadata": {
        "id": "FvNMQ2X036GG"
      },
      "source": [
        "def confusion_matrix(Y_true, Y_pred):\n",
        "    Y_true = pd.Series([ACTIVITIES[y] for y in np.argmax(Y_true, axis=1)])\n",
        "    Y_pred = pd.Series([ACTIVITIES[y] for y in np.argmax(Y_pred, axis=1)])\n",
        "\n",
        "    return pd.crosstab(Y_true, Y_pred, rownames=['True'], colnames=['Pred'])"
      ],
      "execution_count": null,
      "outputs": []
    },
    {
      "cell_type": "code",
      "metadata": {
        "id": "ZB3W1-vE36Gf"
      },
      "source": [
        "DATADIR = '/content/drive/My Drive/UCI_HAR_Dataset'"
      ],
      "execution_count": null,
      "outputs": []
    },
    {
      "cell_type": "code",
      "metadata": {
        "id": "AjB7OQPF36G2"
      },
      "source": [
        "SIGNALS = [\n",
        "    \"body_acc_x\",\n",
        "    \"body_acc_y\",\n",
        "    \"body_acc_z\",\n",
        "    \"body_gyro_x\",\n",
        "    \"body_gyro_y\",\n",
        "    \"body_gyro_z\",\n",
        "    \"total_acc_x\",\n",
        "    \"total_acc_y\",\n",
        "    \"total_acc_z\"\n",
        "]"
      ],
      "execution_count": null,
      "outputs": []
    },
    {
      "cell_type": "code",
      "metadata": {
        "id": "M5Y9hVqc36HG"
      },
      "source": [
        "def _read_csv(filename):\n",
        "    return pd.read_csv(filename, delim_whitespace=True, header=None)"
      ],
      "execution_count": null,
      "outputs": []
    },
    {
      "cell_type": "code",
      "metadata": {
        "id": "rfZozG9x36HV"
      },
      "source": [
        "def load_signals(subset):\n",
        "    signals_data = []\n",
        "\n",
        "    for signal in SIGNALS:\n",
        "        filename = f'/content/drive/My Drive/UCI_HAR_Dataset/{subset}/Inertial Signals/{signal}_{subset}.txt'\n",
        "        signals_data.append(\n",
        "            _read_csv(filename).values\n",
        "        ) \n",
        "    return np.transpose(signals_data, (1, 2, 0))"
      ],
      "execution_count": null,
      "outputs": []
    },
    {
      "cell_type": "code",
      "metadata": {
        "id": "0WJkPBJl36H1"
      },
      "source": [
        "def load_y(subset):\n",
        "    filename = f'/content/drive/My Drive/UCI_HAR_Dataset/{subset}/y_{subset}.txt'\n",
        "    y = _read_csv(filename)[0]\n",
        "\n",
        "    return pd.get_dummies(y).values"
      ],
      "execution_count": null,
      "outputs": []
    },
    {
      "cell_type": "code",
      "metadata": {
        "id": "6MMLpAxB36ID"
      },
      "source": [
        "def load_data():\n",
        "    X_train, X_test = load_signals('train'), load_signals('test')\n",
        "    y_train, y_test = load_y('train'), load_y('test')\n",
        "\n",
        "    return X_train, y_train, X_test,  y_test"
      ],
      "execution_count": null,
      "outputs": []
    },
    {
      "cell_type": "code",
      "metadata": {
        "id": "mcM3gCLV36IO"
      },
      "source": [
        "np.random.seed(42)\n",
        "import tensorflow as tf\n",
        "tf.random.set_seed(42)\n",
        "from keras.models import Sequential\n",
        "from keras.layers import LSTM\n",
        "from keras.layers.core import Dense, Dropout"
      ],
      "execution_count": null,
      "outputs": []
    },
    {
      "cell_type": "code",
      "metadata": {
        "id": "dONlBa2q36Ic"
      },
      "source": [
        "def _count_classes(y):\n",
        "    return len(set([tuple(category) for category in y]))"
      ],
      "execution_count": null,
      "outputs": []
    },
    {
      "cell_type": "code",
      "metadata": {
        "id": "p9Ki-vFy36In"
      },
      "source": [
        "X_train, Y_train, X_test,  Y_test = load_data()"
      ],
      "execution_count": null,
      "outputs": []
    },
    {
      "cell_type": "code",
      "metadata": {
        "id": "G2N7dEVg36I1",
        "colab": {
          "base_uri": "https://localhost:8080/"
        },
        "outputId": "fc609753-273a-464c-ce5c-b843d65ac818"
      },
      "source": [
        "timesteps = len(X_train[0])\n",
        "input_dim = len(X_train[0][0])\n",
        "n_classes = _count_classes(Y_train)\n",
        "#n_classes  = 6\n",
        "print(timesteps)\n",
        "print(input_dim)\n",
        "print(len(X_train))"
      ],
      "execution_count": null,
      "outputs": [
        {
          "output_type": "stream",
          "text": [
            "128\n",
            "9\n",
            "7352\n"
          ],
          "name": "stdout"
        }
      ]
    },
    {
      "cell_type": "code",
      "metadata": {
        "id": "pEX1YGv836I_",
        "colab": {
          "base_uri": "https://localhost:8080/"
        },
        "outputId": "8f2f3fa1-8965-4607-c645-49ab161ead3e"
      },
      "source": [
        "\n",
        "model = Sequential()\n",
        "model.add(Conv1D(36, 15, padding='same',activation='relu',strides=1, input_shape=(128,9)))\n",
        "model.add(MaxPooling1D(pool_size=2))\n",
        "model.add(Conv1D(24, 13, padding='same',activation='relu',strides=1))\n",
        "model.add(MaxPooling1D(pool_size=2))\n",
        "model.add(Conv1D(12, 5, padding='same',activation='relu',strides=1))\n",
        "model.add(MaxPooling1D(pool_size=2))\n",
        "model.add(BatchNormalization())\n",
        "model.add(Flatten())\n",
        "model.add(Dropout(0.5))\n",
        "model.add(Dense(128, activation='relu'))\n",
        "model.add(Dense(64, activation='relu'))\n",
        "model.add(Dense(6, activation='softmax'))\n",
        "model.summary()\n"
      ],
      "execution_count": null,
      "outputs": [
        {
          "output_type": "stream",
          "text": [
            "Model: \"sequential\"\n",
            "_________________________________________________________________\n",
            "Layer (type)                 Output Shape              Param #   \n",
            "=================================================================\n",
            "conv1d (Conv1D)              (None, 128, 36)           4896      \n",
            "_________________________________________________________________\n",
            "max_pooling1d (MaxPooling1D) (None, 64, 36)            0         \n",
            "_________________________________________________________________\n",
            "conv1d_1 (Conv1D)            (None, 64, 24)            11256     \n",
            "_________________________________________________________________\n",
            "max_pooling1d_1 (MaxPooling1 (None, 32, 24)            0         \n",
            "_________________________________________________________________\n",
            "conv1d_2 (Conv1D)            (None, 32, 12)            1452      \n",
            "_________________________________________________________________\n",
            "max_pooling1d_2 (MaxPooling1 (None, 16, 12)            0         \n",
            "_________________________________________________________________\n",
            "batch_normalization (BatchNo (None, 16, 12)            48        \n",
            "_________________________________________________________________\n",
            "flatten (Flatten)            (None, 192)               0         \n",
            "_________________________________________________________________\n",
            "dropout (Dropout)            (None, 192)               0         \n",
            "_________________________________________________________________\n",
            "dense (Dense)                (None, 128)               24704     \n",
            "_________________________________________________________________\n",
            "dense_1 (Dense)              (None, 64)                8256      \n",
            "_________________________________________________________________\n",
            "dense_2 (Dense)              (None, 6)                 390       \n",
            "=================================================================\n",
            "Total params: 51,002\n",
            "Trainable params: 50,978\n",
            "Non-trainable params: 24\n",
            "_________________________________________________________________\n"
          ],
          "name": "stdout"
        }
      ]
    },
    {
      "cell_type": "code",
      "metadata": {
        "id": "ZferptVC36JK"
      },
      "source": [
        "es = EarlyStopping(monitor='val_loss', mode='min', verbose=1)"
      ],
      "execution_count": null,
      "outputs": []
    },
    {
      "cell_type": "code",
      "metadata": {
        "id": "W97XMRPT36JV"
      },
      "source": [
        "model.compile(loss='categorical_crossentropy', optimizer='adam', metrics=['accuracy'])"
      ],
      "execution_count": null,
      "outputs": []
    },
    {
      "cell_type": "code",
      "metadata": {
        "id": "inSR1czO36Jj",
        "colab": {
          "base_uri": "https://localhost:8080/"
        },
        "outputId": "246bde8e-8cd1-48cd-bfb1-4230fd260464"
      },
      "source": [
        "hist1=model.fit(X_train,\n",
        "          Y_train,\n",
        "          batch_size=64,\n",
        "          epochs=30, \n",
        "            callbacks=[es],\n",
        "               validation_split=0.2)"
      ],
      "execution_count": null,
      "outputs": [
        {
          "output_type": "stream",
          "text": [
            "Epoch 1/30\n",
            "92/92 [==============================] - 3s 35ms/step - loss: 0.7013 - accuracy: 0.7089 - val_loss: 1.2648 - val_accuracy: 0.4813\n",
            "Epoch 2/30\n",
            "92/92 [==============================] - 3s 33ms/step - loss: 0.1665 - accuracy: 0.9373 - val_loss: 0.6955 - val_accuracy: 0.7145\n",
            "Epoch 3/30\n",
            "92/92 [==============================] - 3s 32ms/step - loss: 0.1343 - accuracy: 0.9475 - val_loss: 0.2461 - val_accuracy: 0.9177\n",
            "Epoch 4/30\n",
            "92/92 [==============================] - 3s 32ms/step - loss: 0.1143 - accuracy: 0.9548 - val_loss: 0.4096 - val_accuracy: 0.8545\n",
            "Epoch 00004: early stopping\n"
          ],
          "name": "stdout"
        }
      ]
    },
    {
      "cell_type": "code",
      "metadata": {
        "id": "nrPXZ-mP36J5",
        "colab": {
          "base_uri": "https://localhost:8080/",
          "height": 185
        },
        "outputId": "ff950ef1-941a-433f-fd23-dd83c33a0bb1"
      },
      "source": [
        "print(confusion_matrix(Y_test, model.predict(X_test)))"
      ],
      "execution_count": null,
      "outputs": [
        {
          "output_type": "stream",
          "text": [
            "Pred                LAYING  SITTING  ...  WALKING_DOWNSTAIRS  WALKING_UPSTAIRS\n",
            "True                                 ...                                      \n",
            "LAYING                 512        0  ...                   0                 1\n",
            "SITTING                  0      412  ...                   0                 1\n",
            "STANDING                 0       70  ...                   0                 0\n",
            "WALKING                  1        0  ...                  30                 1\n",
            "WALKING_DOWNSTAIRS       0        0  ...                 418                 2\n",
            "WALKING_UPSTAIRS         5        0  ...                  22               442\n",
            "\n",
            "[6 rows x 6 columns]\n"
          ],
          "name": "stdout"
        }
      ]
    },
    {
      "cell_type": "code",
      "metadata": {
        "id": "ueF2Bg_m3YqQ"
      },
      "source": [
        ""
      ],
      "execution_count": null,
      "outputs": []
    }
  ]
}