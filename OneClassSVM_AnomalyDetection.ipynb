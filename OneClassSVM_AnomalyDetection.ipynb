{
  "nbformat": 4,
  "nbformat_minor": 0,
  "metadata": {
    "colab": {
      "name": "OneClassSVM_AnomalyDetection.ipynb",
      "provenance": [],
      "collapsed_sections": []
    },
    "kernelspec": {
      "name": "python3",
      "display_name": "Python 3"
    }
  },
  "cells": [
    {
      "cell_type": "markdown",
      "metadata": {
        "id": "XbUve5tOB1OH"
      },
      "source": [
        "# **Anomaly detection in time series data**"
      ]
    },
    {
      "cell_type": "markdown",
      "metadata": {
        "id": "g7AJjxoWEdJr"
      },
      "source": [
        "## **Anomaly -**\n",
        "\n",
        "Observation that deviates from normal behavior of dataset. \\\n",
        "\n"
      ]
    },
    {
      "cell_type": "code",
      "metadata": {
        "id": "-4elXIvV1aHM",
        "colab": {
          "resources": {
            "http://localhost:8080/nbextensions/google.colab/files.js": {
              "data": "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",
              "ok": true,
              "headers": [
                [
                  "content-type",
                  "application/javascript"
                ]
              ],
              "status": 200,
              "status_text": ""
            }
          },
          "base_uri": "https://localhost:8080/",
          "height": 38
        },
        "outputId": "73136b40-3e54-40fe-af98-2029d553b665"
      },
      "source": [
        "from google.colab import files\n",
        "uploaded = files.upload()"
      ],
      "execution_count": null,
      "outputs": [
        {
          "output_type": "display_data",
          "data": {
            "text/html": [
              "\n",
              "     <input type=\"file\" id=\"files-877f508a-d659-45c9-8884-ecc06735bb93\" name=\"files[]\" multiple disabled\n",
              "        style=\"border:none\" />\n",
              "     <output id=\"result-877f508a-d659-45c9-8884-ecc06735bb93\">\n",
              "      Upload widget is only available when the cell has been executed in the\n",
              "      current browser session. Please rerun this cell to enable.\n",
              "      </output>\n",
              "      <script src=\"/nbextensions/google.colab/files.js\"></script> "
            ],
            "text/plain": [
              "<IPython.core.display.HTML object>"
            ]
          },
          "metadata": {
            "tags": []
          }
        }
      ]
    },
    {
      "cell_type": "code",
      "metadata": {
        "id": "Xo1vvgGP2Isc"
      },
      "source": [
        "import pandas as pd\n",
        "#https://pandas.pydata.org/docs/reference/index.html\n",
        " \n",
        "import numpy as np\n",
        "#https://numpy.org/doc/stable/user/tutorials_index.html\n",
        " \n",
        "from matplotlib import pyplot as plt\n",
        "import matplotlib.font_manager\n",
        "#https://matplotlib.org/tutorials/index.html\n",
        " \n",
        "from sklearn import preprocessing\n",
        "from sklearn.svm import OneClassSVM\n",
        "from sklearn import svm\n",
        "#https://scikit-learn.org/stable/user_guide.html"
      ],
      "execution_count": 2,
      "outputs": []
    },
    {
      "cell_type": "markdown",
      "metadata": {
        "id": "rAKiM1JYJHE4"
      },
      "source": [
        "# Read Data "
      ]
    },
    {
      "cell_type": "code",
      "metadata": {
        "id": "LJ_ki447I_ly"
      },
      "source": [
        "df = pd.read_csv(\"ambient_temperature_system_failure.txt\")"
      ],
      "execution_count": 3,
      "outputs": []
    },
    {
      "cell_type": "markdown",
      "metadata": {
        "id": "G7X-EO3cJgzL"
      },
      "source": [
        "**#Understand data**\n"
      ]
    },
    {
      "cell_type": "code",
      "metadata": {
        "id": "7ngvJvr4JcKL",
        "colab": {
          "base_uri": "https://localhost:8080/"
        },
        "outputId": "f36dee55-0c86-4b42-b156-fd7b5b87dd99"
      },
      "source": [
        "print(df.info())"
      ],
      "execution_count": 4,
      "outputs": [
        {
          "output_type": "stream",
          "text": [
            "<class 'pandas.core.frame.DataFrame'>\n",
            "RangeIndex: 7267 entries, 0 to 7266\n",
            "Data columns (total 2 columns):\n",
            " #   Column     Non-Null Count  Dtype  \n",
            "---  ------     --------------  -----  \n",
            " 0   timestamp  7267 non-null   object \n",
            " 1   value      7267 non-null   float64\n",
            "dtypes: float64(1), object(1)\n",
            "memory usage: 113.7+ KB\n",
            "None\n"
          ],
          "name": "stdout"
        }
      ]
    },
    {
      "cell_type": "markdown",
      "metadata": {
        "id": "qaZbGQZ1hVwl"
      },
      "source": [
        "**# First 10 rows of data.**"
      ]
    },
    {
      "cell_type": "code",
      "metadata": {
        "id": "hh3SePkJJfV5",
        "colab": {
          "base_uri": "https://localhost:8080/"
        },
        "outputId": "29ad7bf8-9d95-4595-d8c3-eb1aea8cfae3"
      },
      "source": [
        "print(df.head(10))"
      ],
      "execution_count": 5,
      "outputs": [
        {
          "output_type": "stream",
          "text": [
            "             timestamp      value\n",
            "0  2013-07-04 00:00:00  69.880835\n",
            "1  2013-07-04 01:00:00  71.220227\n",
            "2  2013-07-04 02:00:00  70.877805\n",
            "3  2013-07-04 03:00:00  68.959400\n",
            "4  2013-07-04 04:00:00  69.283551\n",
            "5  2013-07-04 05:00:00  70.060966\n",
            "6  2013-07-04 06:00:00  69.279765\n",
            "7  2013-07-04 07:00:00  69.369608\n",
            "8  2013-07-04 08:00:00  69.166714\n",
            "9  2013-07-04 09:00:00  68.986083\n"
          ],
          "name": "stdout"
        }
      ]
    },
    {
      "cell_type": "markdown",
      "metadata": {
        "id": "zBuu300NKRM1"
      },
      "source": [
        " - Change the type of timestamp\n",
        " - Convert the temperature value (Fahrenheit to Celsius) "
      ]
    },
    {
      "cell_type": "code",
      "metadata": {
        "id": "ILr2CXssJwoh",
        "colab": {
          "base_uri": "https://localhost:8080/",
          "height": 294
        },
        "outputId": "685380c2-3fab-473c-e752-8ce140e5c66b"
      },
      "source": [
        "df['timestamp'] = pd.to_datetime(df['timestamp'])\n",
        "df['value'] = (df['value'] - 32) * 5/9\n",
        "df.plot(x='timestamp', y='value')"
      ],
      "execution_count": 7,
      "outputs": [
        {
          "output_type": "execute_result",
          "data": {
            "text/plain": [
              "<matplotlib.axes._subplots.AxesSubplot at 0x7f6528338be0>"
            ]
          },
          "metadata": {
            "tags": []
          },
          "execution_count": 7
        },
        {
          "output_type": "display_data",
          "data": {
            "image/png": "[encoded data removed]",
            "text/plain": [
              "<Figure size 432x288 with 1 Axes>"
            ]
          },
          "metadata": {
            "tags": [],
            "needs_background": "light"
          }
        }
      ]
    },
    {
      "cell_type": "markdown",
      "metadata": {
        "id": "PTrYNkeVMQB8"
      },
      "source": [
        "# Extract useful features\n",
        "\n",
        "Extracting the following useful features :\n",
        "\n",
        "**1. Hours** - 24 hours (0-23) \\\n",
        "\n",
        "**2. Daytime** - \\\n",
        " Daytime = 1 , if hour is in 7:00 AM to 10:00 PM \\\n",
        " Daytime = 0 , otherwise (Night_time) \\\n",
        "\n",
        "**3. DayOfTheWeek** -  ( Monday - 0 )  to (Sunday - 6) \\\n",
        "\n",
        "**4. WeekDay** - \\\n",
        "WeekDay = 1 , if Day of week < 5 \\\n",
        "WeekDay = 0 , Otherwise (saturday and sunday)\n",
        "\n",
        "**5. categories** - \\\n",
        "0 - Week end night \\\n",
        "1 - Week end daytime \\\n",
        "2 - Week day night \\\n",
        "3 - Week day day time \\\n",
        "\n",
        "                                   \n",
        "\n"
      ]
    },
    {
      "cell_type": "code",
      "metadata": {
        "id": "U5eYlHtBMNw1"
      },
      "source": [
        "df['hours'] = df['timestamp'].dt.hour\n",
        "df['daylight'] = ((df['hours'] >= 7) & (df['hours'] <= 22)).astype(int)"
      ],
      "execution_count": 8,
      "outputs": []
    },
    {
      "cell_type": "code",
      "metadata": {
        "id": "lAsYmV1sMPB8"
      },
      "source": [
        "df['DayOfTheWeek'] = df['timestamp'].dt.dayofweek\n",
        "df['WeekDay'] = (df['DayOfTheWeek'] < 5).astype(int)"
      ],
      "execution_count": 9,
      "outputs": []
    },
    {
      "cell_type": "code",
      "metadata": {
        "id": "TJfYYfndMwjL"
      },
      "source": [
        "df['time_epoch'] = (df['timestamp'].astype(np.int64)/100000000000).astype(np.int64)"
      ],
      "execution_count": 10,
      "outputs": []
    },
    {
      "cell_type": "code",
      "metadata": {
        "id": "9lMcGAujNlMh"
      },
      "source": [
        "df['categories'] = df['WeekDay']*2 + df['daylight']\n",
        "\n",
        "a = df.loc[df['categories'] == 0, 'value']\n",
        "b = df.loc[df['categories'] == 1, 'value']\n",
        "c = df.loc[df['categories'] == 2, 'value']\n",
        "d = df.loc[df['categories'] == 3, 'value']\n"
      ],
      "execution_count": 11,
      "outputs": []
    },
    {
      "cell_type": "markdown",
      "metadata": {
        "id": "mai9IZs7SE7e"
      },
      "source": [
        "# **Anomaly detection using OneClass SVM**\r\n",
        "\r\n"
      ]
    },
    {
      "cell_type": "markdown",
      "metadata": {
        "id": "zeLNCe8a_XLu"
      },
      "source": [
        "**Support Vector Machine** "
      ]
    },
    {
      "cell_type": "markdown",
      "metadata": {
        "id": "aAHfWGHDTrwH"
      },
      "source": [
        "**1. OneClass SVM(Support vector machine)**\n",
        "\n",
        "\n",
        "- SVM use a hyperplane to separates the two classes with max margin.\n",
        "\n",
        "- One class SVM Unsupervised Outlier Detection method\n",
        "\n",
        "- One Class SVM is used for anomaly detection. The idea of anomaly detection is to detect the events that happen rarely.\n",
        "\n",
        "- One class SVM finds a hyperball in higher dimensional space, that contains only normal points."
      ]
    },
    {
      "cell_type": "markdown",
      "metadata": {
        "id": "AOo164DM_m_n"
      },
      "source": [
        "**Example :**"
      ]
    },
    {
      "cell_type": "markdown",
      "metadata": {
        "id": "P38Tjgb0aDuD"
      },
      "source": [
        "![image.png](data:image/png;base64,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)"
      ]
    },
    {
      "cell_type": "code",
      "metadata": {
        "id": "nbucIJSUOXDj",
        "colab": {
          "base_uri": "https://localhost:8080/"
        },
        "outputId": "977ce07c-8cb1-4eee-f456-ca652e06df5c"
      },
      "source": [
        "outliers_fraction = 0.01\n",
        "data = df[['value', 'hours', 'daylight', 'DayOfTheWeek', 'WeekDay']]\n",
        "min_max_scaler = preprocessing.StandardScaler()\n",
        "np_scaled = min_max_scaler.fit_transform(data)    # Standardize features by removing the mean and scaling to unit variance\n",
        "# train one class SVM \n",
        "model =  OneClassSVM(nu=0.95 * outliers_fraction)\n",
        "data = pd.DataFrame(np_scaled)\n",
        "model.fit(data)\n",
        "# add the data to the main  \n",
        "df['anomaly'] = pd.Series(model.predict(data))\n",
        "df['anomaly'] = df['anomaly'].map( {1: 0, -1: 1} )\n",
        "print(df['anomaly'].value_counts())"
      ],
      "execution_count": 13,
      "outputs": [
        {
          "output_type": "stream",
          "text": [
            "0    7198\n",
            "1      69\n",
            "Name: anomaly, dtype: int64\n"
          ],
          "name": "stdout"
        }
      ]
    },
    {
      "cell_type": "markdown",
      "metadata": {
        "id": "ZSGC5YszVbXv"
      },
      "source": [
        "**visualize anomaly**"
      ]
    },
    {
      "cell_type": "code",
      "metadata": {
        "id": "gW4f7dfpUhkN",
        "colab": {
          "base_uri": "https://localhost:8080/",
          "height": 278
        },
        "outputId": "3c0753a4-e01f-446b-ccf6-1afaf42422ab"
      },
      "source": [
        "fig, ax = plt.subplots()\n",
        "\n",
        "a = df.loc[df['anomaly'] == 1, ['time_epoch', 'value']] #anomaly\n",
        "\n",
        "ax.plot(df['time_epoch'], df['value'], color='blue')\n",
        "ax.scatter(a['time_epoch'],a['value'], color='red')\n",
        "plt.show()"
      ],
      "execution_count": 14,
      "outputs": [
        {
          "output_type": "display_data",
          "data": {
            "image/png": "[encoded data removed]",
            "text/plain": [
              "<Figure size 432x288 with 1 Axes>"
            ]
          },
          "metadata": {
            "tags": [],
            "needs_background": "light"
          }
        }
      ]
    },
    {
      "cell_type": "code",
      "metadata": {
        "id": "SfYY_LJz2NyD"
      },
      "source": [
        "df.to_csv('data1.csv', index=False)"
      ],
      "execution_count": 15,
      "outputs": []
    }
  ]
}